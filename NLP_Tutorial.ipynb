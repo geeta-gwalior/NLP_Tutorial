{
  "nbformat": 4,
  "nbformat_minor": 0,
  "metadata": {
    "colab": {
      "provenance": [],
      "authorship_tag": "ABX9TyO81/wCVUndT6FLirf8qiOr",
      "include_colab_link": true
    },
    "kernelspec": {
      "name": "python3",
      "display_name": "Python 3"
    },
    "language_info": {
      "name": "python"
    }
  },
  "cells": [
    {
      "cell_type": "markdown",
      "metadata": {
        "id": "view-in-github",
        "colab_type": "text"
      },
      "source": [
        "<a href=\"https://colab.research.google.com/github/geeta-gwalior/NLP_Tutorial/blob/main/NLP_Tutorial.ipynb\" target=\"_parent\"><img src=\"https://colab.research.google.com/assets/colab-badge.svg\" alt=\"Open In Colab\"/></a>"
      ]
    },
    {
      "cell_type": "code",
      "execution_count": null,
      "metadata": {
        "colab": {
          "base_uri": "https://localhost:8080/"
        },
        "id": "-lp5KhjgTuEQ",
        "outputId": "a7853cab-704c-4a07-c492-e922a074c166"
      },
      "outputs": [
        {
          "output_type": "stream",
          "name": "stdout",
          "text": [
            "Found a match: am\n"
          ]
        }
      ],
      "source": [
        "import re\n",
        "\n",
        "text = \"i am a data scientist\"\n",
        "pattern = \"am\"\n",
        "\n",
        "match = re.search(pattern, text)\n",
        "if match:\n",
        "    print(\"Found a match:\", match.group())\n",
        "else:\n",
        "    print(\"No match found.\")"
      ]
    },
    {
      "cell_type": "code",
      "source": [
        "#replace test"
      ],
      "metadata": {
        "id": "S-i5Xi-8Tz6B"
      },
      "execution_count": null,
      "outputs": []
    },
    {
      "cell_type": "code",
      "source": [
        "\n",
        "\n",
        "text = \"I am a data analyst\"\n",
        "pattern = \"analyst\"\n",
        "replacement = \"scientist\"\n",
        "\n",
        "new_text = re.sub(pattern, replacement, text)\n",
        "print(\"Original text:\", text)\n",
        "print(\"New text:\", new_text)\n"
      ],
      "metadata": {
        "colab": {
          "base_uri": "https://localhost:8080/"
        },
        "id": "o8ggb2ePUTJ1",
        "outputId": "199723fe-a047-4451-a9da-2c639f5df012"
      },
      "execution_count": null,
      "outputs": [
        {
          "output_type": "stream",
          "name": "stdout",
          "text": [
            "Original text: I am a data analyst\n",
            "New text: I am a data scientist\n"
          ]
        }
      ]
    },
    {
      "cell_type": "markdown",
      "source": [
        "Removing punctuations in string"
      ],
      "metadata": {
        "id": "o-8nEUZjVL6K"
      }
    },
    {
      "cell_type": "code",
      "source": [
        "test1 = \"Hey, this is best : for ! us ;\"\n",
        "\n",
        "\n",
        "print(\"The original string is : \" + test1)\n",
        "\n",
        "\n",
        "res = re.sub(r'[^\\w\\s]', '', test1)\n",
        "\n",
        "# printing result\n",
        "print(\"The string after punctuation filter : \" + res)"
      ],
      "metadata": {
        "colab": {
          "base_uri": "https://localhost:8080/"
        },
        "id": "uf7mQ5enUnzX",
        "outputId": "aaca8783-dd89-451c-f13c-e261813b5812"
      },
      "execution_count": null,
      "outputs": [
        {
          "output_type": "stream",
          "name": "stdout",
          "text": [
            "The original string is : Hey, this is best : for ! us ;\n",
            "The string after punctuation filter : Hey this is best  for  us \n"
          ]
        }
      ]
    },
    {
      "cell_type": "code",
      "source": [
        "import nltk\n",
        "nltk.download('punkt')  # Download the Punkt tokenizer data\n",
        "\n",
        "text = \"This is an example sentence. Another sentence is here.\"\n",
        "tokens = nltk.word_tokenize(text)\n",
        "\n",
        "print(tokens)\n"
      ],
      "metadata": {
        "colab": {
          "base_uri": "https://localhost:8080/"
        },
        "id": "A33DMCpOVbKX",
        "outputId": "94caf211-b9f2-4d42-a329-d8fab33248cc"
      },
      "execution_count": null,
      "outputs": [
        {
          "output_type": "stream",
          "name": "stderr",
          "text": [
            "[nltk_data] Downloading package punkt to /root/nltk_data...\n",
            "[nltk_data]   Unzipping tokenizers/punkt.zip.\n"
          ]
        },
        {
          "output_type": "stream",
          "name": "stdout",
          "text": [
            "['This', 'is', 'an', 'example', 'sentence', '.', 'Another', 'sentence', 'is', 'here', '.']\n"
          ]
        }
      ]
    },
    {
      "cell_type": "code",
      "source": [
        "\n",
        "\n",
        "text = \"This is the first sentence. This is the second sentence. And this is the third sentence.\"\n",
        "\n",
        "sentences = nltk.sent_tokenize(text)\n",
        "\n",
        "print(sentences)\n"
      ],
      "metadata": {
        "colab": {
          "base_uri": "https://localhost:8080/"
        },
        "id": "JZwOrJ7GZEgu",
        "outputId": "606b2c8e-8a57-4d97-bade-d0c85652515d"
      },
      "execution_count": null,
      "outputs": [
        {
          "output_type": "stream",
          "name": "stdout",
          "text": [
            "['This is the first sentence.', 'This is the second sentence.', 'And this is the third sentence.']\n"
          ]
        }
      ]
    },
    {
      "cell_type": "code",
      "source": [
        "\n",
        "from nltk.util import ngrams\n",
        "\n",
        "text = \"The quick brown fox jumps over the lazy dog.\"\n",
        "\n",
        "# Tokenize the text into individual words\n",
        "tokens = nltk.word_tokenize(text)\n",
        "\n",
        "# Generate bigrams and trigrams from the tokens\n",
        "bigrams = list(ngrams(tokens, 2))\n",
        "trigrams = list(ngrams(tokens, 3))\n",
        "\n",
        "print(\"Original text:\", text)\n",
        "print(\"Tokens:\", tokens)\n",
        "print(\"Bigrams:\", bigrams)\n",
        "print(\"Trigrams:\", trigrams)\n"
      ],
      "metadata": {
        "colab": {
          "base_uri": "https://localhost:8080/"
        },
        "id": "3jE-wPOsZgce",
        "outputId": "c9ae4c90-698b-4acc-cd02-4f4f0c59601a"
      },
      "execution_count": null,
      "outputs": [
        {
          "output_type": "stream",
          "name": "stdout",
          "text": [
            "Original text: The quick brown fox jumps over the lazy dog.\n",
            "Tokens: ['The', 'quick', 'brown', 'fox', 'jumps', 'over', 'the', 'lazy', 'dog', '.']\n",
            "Bigrams: [('The', 'quick'), ('quick', 'brown'), ('brown', 'fox'), ('fox', 'jumps'), ('jumps', 'over'), ('over', 'the'), ('the', 'lazy'), ('lazy', 'dog'), ('dog', '.')]\n",
            "Trigrams: [('The', 'quick', 'brown'), ('quick', 'brown', 'fox'), ('brown', 'fox', 'jumps'), ('fox', 'jumps', 'over'), ('jumps', 'over', 'the'), ('over', 'the', 'lazy'), ('the', 'lazy', 'dog'), ('lazy', 'dog', '.')]\n"
          ]
        }
      ]
    },
    {
      "cell_type": "code",
      "source": [
        "\n",
        "from nltk.stem import PorterStemmer\n",
        "\n",
        "stemmer = PorterStemmer()\n",
        "\n",
        "word = \"running\"\n",
        "stemmed_word = stemmer.stem(word)\n",
        "\n",
        "print(stemmed_word) # Output: run\n"
      ],
      "metadata": {
        "colab": {
          "base_uri": "https://localhost:8080/"
        },
        "id": "3V63T0Rnauqm",
        "outputId": "decf286f-a62e-4359-badf-a422d6ff9e0a"
      },
      "execution_count": null,
      "outputs": [
        {
          "output_type": "stream",
          "name": "stdout",
          "text": [
            "run\n"
          ]
        }
      ]
    },
    {
      "cell_type": "code",
      "source": [
        "import nltk\n",
        "nltk.download('omw-1.4')\n",
        "from nltk.stem import WordNetLemmatizer\n",
        "\n",
        "nltk.download('wordnet')  # Download the WordNet corpus\n",
        "\n",
        "lemmatizer = WordNetLemmatizer()\n",
        "\n",
        "word = \"running\"\n",
        "lemma_word = lemmatizer.lemmatize(word, pos=\"v\") # specify the part of speech as verb (v)\n",
        "\n",
        "print(lemma_word) # Output: run\n"
      ],
      "metadata": {
        "colab": {
          "base_uri": "https://localhost:8080/"
        },
        "id": "ZUomtjeScGgX",
        "outputId": "8e021ead-c719-4ffe-ebf6-234e6039cd48"
      },
      "execution_count": null,
      "outputs": [
        {
          "output_type": "stream",
          "name": "stderr",
          "text": [
            "[nltk_data] Downloading package omw-1.4 to /root/nltk_data...\n",
            "[nltk_data] Downloading package wordnet to /root/nltk_data...\n"
          ]
        },
        {
          "output_type": "stream",
          "name": "stdout",
          "text": [
            "run\n"
          ]
        }
      ]
    },
    {
      "cell_type": "code",
      "source": [
        "\n",
        "from nltk.corpus import stopwords\n",
        "nltk.download('stopwords') # Download the stop words corpus\n",
        "\n",
        "stop_words = set(stopwords.words('english'))\n",
        "\n",
        "text = \"this is an example sentence that includes stop words\"\n",
        "\n",
        "tokens = nltk.word_tokenize(text)\n",
        "\n",
        "filtered_tokens = [word for word in tokens if not word.lower() in stop_words]\n",
        "\n",
        "filtered_text = ' '.join(filtered_tokens)\n",
        "\n",
        "print(\"data\",filtered_text) # Output: example sentence includes stop words\n"
      ],
      "metadata": {
        "colab": {
          "base_uri": "https://localhost:8080/"
        },
        "id": "Ju863ElIcnDV",
        "outputId": "baf244c8-f725-49f9-e9ee-005433e1c3f5"
      },
      "execution_count": null,
      "outputs": [
        {
          "output_type": "stream",
          "name": "stdout",
          "text": [
            "data example sentence includes stop words\n"
          ]
        },
        {
          "output_type": "stream",
          "name": "stderr",
          "text": [
            "[nltk_data] Downloading package stopwords to /root/nltk_data...\n",
            "[nltk_data]   Unzipping corpora/stopwords.zip.\n"
          ]
        }
      ]
    },
    {
      "cell_type": "code",
      "source": [
        "from nltk.tokenize import word_tokenize\n",
        "nltk.download('averaged_perceptron_tagger')\n",
        "\n",
        "text = \"The quick brown fox jumps over the lazy dog.\"\n",
        "tokens = word_tokenize(text)\n",
        "pos_tags = nltk.pos_tag(tokens)\n",
        "print(pos_tags)\n"
      ],
      "metadata": {
        "id": "-2ajCHPxdr-y",
        "colab": {
          "base_uri": "https://localhost:8080/"
        },
        "outputId": "b23d5299-6586-490f-b6f4-0d71741d41d7"
      },
      "execution_count": null,
      "outputs": [
        {
          "output_type": "stream",
          "name": "stdout",
          "text": [
            "[('The', 'DT'), ('quick', 'JJ'), ('brown', 'NN'), ('fox', 'NN'), ('jumps', 'VBZ'), ('over', 'IN'), ('the', 'DT'), ('lazy', 'JJ'), ('dog', 'NN'), ('.', '.')]\n"
          ]
        },
        {
          "output_type": "stream",
          "name": "stderr",
          "text": [
            "[nltk_data] Downloading package averaged_perceptron_tagger to\n",
            "[nltk_data]     /root/nltk_data...\n",
            "[nltk_data]   Package averaged_perceptron_tagger is already up-to-\n",
            "[nltk_data]       date!\n"
          ]
        }
      ]
    },
    {
      "cell_type": "code",
      "source": [
        "#NER\n",
        "from nltk import pos_tag, ne_chunk\n",
        "nltk.download('maxent_ne_chunker')\n",
        "nltk.download('words')\n",
        "# Define the text\n",
        "text = \"Apple is expected to launch its new iPhone in September at the Steve Jobs Theater in California.\"\n",
        "\n",
        "# Tokenize the text\n",
        "tokens = word_tokenize(text)\n",
        "\n",
        "# Perform part-of-speech tagging on the tokens\n",
        "tagged = pos_tag(tokens)\n",
        "\n",
        "# Perform named entity recognition on the tagged text\n",
        "ne = ne_chunk(tagged)\n",
        "\n",
        "# Print the named entities\n",
        "for chunk in ne:\n",
        "    if hasattr(chunk, 'label'):\n",
        "        print(chunk.label(), ' '.join(c[0] for c in chunk))\n"
      ],
      "metadata": {
        "colab": {
          "base_uri": "https://localhost:8080/"
        },
        "id": "qyuzvBKLnxTq",
        "outputId": "72251067-4145-4fb0-f098-8d3710599571"
      },
      "execution_count": null,
      "outputs": [
        {
          "output_type": "stream",
          "name": "stderr",
          "text": [
            "[nltk_data] Downloading package maxent_ne_chunker to\n",
            "[nltk_data]     /root/nltk_data...\n",
            "[nltk_data]   Package maxent_ne_chunker is already up-to-date!\n",
            "[nltk_data] Downloading package words to /root/nltk_data...\n"
          ]
        },
        {
          "output_type": "stream",
          "name": "stdout",
          "text": [
            "GPE Apple\n",
            "PERSON Steve Jobs\n",
            "GPE California\n"
          ]
        },
        {
          "output_type": "stream",
          "name": "stderr",
          "text": [
            "[nltk_data]   Unzipping corpora/words.zip.\n"
          ]
        }
      ]
    },
    {
      "cell_type": "code",
      "source": [
        "\n",
        "from nltk.sentiment import SentimentIntensityAnalyzer\n",
        "nltk.download('vader_lexicon')\n",
        "# Initialize the sentiment analyzer\n",
        "sid = SentimentIntensityAnalyzer()\n",
        "\n",
        "# Sample text\n",
        "text = \"I hate this product! It woutld not work perfectly and I would definitely recommend it to anyone.\"\n",
        "\n",
        "# Compute the sentiment scores for the text\n",
        "scores = sid.polarity_scores(text)\n",
        "\n",
        "# Print the sentiment scores\n",
        "print(scores)\n"
      ],
      "metadata": {
        "colab": {
          "base_uri": "https://localhost:8080/"
        },
        "id": "IbryX3tnn_BF",
        "outputId": "8187a6e3-b41f-41b8-a7ec-89bd86e25680"
      },
      "execution_count": null,
      "outputs": [
        {
          "output_type": "stream",
          "name": "stdout",
          "text": [
            "{'neg': 0.312, 'neu': 0.467, 'pos': 0.221, 'compound': -0.4871}\n"
          ]
        },
        {
          "output_type": "stream",
          "name": "stderr",
          "text": [
            "[nltk_data] Downloading package vader_lexicon to /root/nltk_data...\n",
            "[nltk_data]   Package vader_lexicon is already up-to-date!\n"
          ]
        }
      ]
    },
    {
      "cell_type": "code",
      "source": [],
      "metadata": {
        "id": "mNf2T7p9uCDz"
      },
      "execution_count": null,
      "outputs": []
    }
  ]
}